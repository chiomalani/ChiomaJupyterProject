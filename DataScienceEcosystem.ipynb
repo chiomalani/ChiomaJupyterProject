{
 "cells": [
  {
   "cell_type": "markdown",
   "id": "8f828959-6763-46cc-8e93-5868c72ecfd0",
   "metadata": {},
   "source": [
    "# Data Science Tools and Ecosystem"
   ]
  },
  {
   "cell_type": "markdown",
   "id": "5fbafb65-71aa-4908-8485-39334fdc1a2b",
   "metadata": {},
   "source": [
    "# Data Science Tools and Ecosystem"
   ]
  },
  {
   "cell_type": "markdown",
   "id": "8f3f5d97-696a-4745-8e27-ea0bf91bc69f",
   "metadata": {},
   "source": [
    "## In this notebook, Data Science Tools and Ecosystem are summarized."
   ]
  },
  {
   "cell_type": "markdown",
   "id": "75d40fb2-67e4-4390-b33a-b8dbffc02bdb",
   "metadata": {},
   "source": [
    "## In this notebook, Data Science Tools and Ecosystem are summarized."
   ]
  },
  {
   "cell_type": "code",
   "execution_count": null,
   "id": "06aaf44c-8a1e-483d-9616-00689c03b491",
   "metadata": {},
   "outputs": [],
   "source": [
    "**Objectives:**\n",
    "* Popular Languages\n",
    "* Common Libraries\n",
    "* Arithmatic Expressions"
   ]
  },
  {
   "cell_type": "markdown",
   "id": "ce21f4f2-2f53-4ed3-90f5-fbd2f5ef4435",
   "metadata": {},
   "source": [
    "**Objectives:**\n",
    "* Popular Languages\n",
    "* Common Libraries\n",
    "* Arithmatic Expressions"
   ]
  },
  {
   "cell_type": "markdown",
   "id": "ae0d3b7a-fa1d-4ab0-839b-8b21318b29d7",
   "metadata": {},
   "source": [
    "### Some of the popular languages that Data Scientists use are:\n",
    "1. Python\n",
    "2. R\n",
    "3. SQL\n",
    "4. Java"
   ]
  },
  {
   "cell_type": "markdown",
   "id": "74b31149-7a6b-460a-934a-c6d29f297c22",
   "metadata": {},
   "source": [
    "### Some of the popular languages that Data Scientists use are:\n",
    "1. Python\n",
    "2. R\n",
    "3. SQL\n",
    "4. Java"
   ]
  },
  {
   "cell_type": "markdown",
   "id": "71655850-4c52-4169-b0dc-6588591f4a60",
   "metadata": {},
   "source": [
    "### Some of the commonly used libraries used by Data Scientists include:\n",
    "1. Pandas\n",
    "2. NumPy\n",
    "3. Matplotlib\n",
    "4. GGplot2\n"
   ]
  },
  {
   "cell_type": "markdown",
   "id": "a5d85a58-90bc-44d4-8530-6fe0acf2fbf2",
   "metadata": {},
   "source": [
    "### Some of the commonly used libraries used by Data Scientists include:\n",
    "1. Pandas\n",
    "2. NumPy\n",
    "3. Matplotlib\n",
    "4. GGplot2\n"
   ]
  },
  {
   "cell_type": "markdown",
   "id": "db02e836-84a3-48a2-a5f3-ddb5c6b4f015",
   "metadata": {},
   "source": [
    "| Data Science Tools |\n",
    "| -------------| \n",
    "| Jupyter Notebook | \n",
    "| RStudio | \n",
    "| Appache Zeppelin | "
   ]
  },
  {
   "cell_type": "markdown",
   "id": "ada09492-3e37-4176-a99b-712b96a7295a",
   "metadata": {},
   "source": [
    "| Data Science Tools |\n",
    "| -------------| \n",
    "| Jupyter Notebook | \n",
    "| RStudio | \n",
    "| Appache Zeppelin | "
   ]
  },
  {
   "cell_type": "markdown",
   "id": "6f362ad1-2050-4f35-9d41-2f251e08887b",
   "metadata": {},
   "source": [
    "### Below are a few examples of evaluating arithmetic expressions in Python"
   ]
  },
  {
   "cell_type": "markdown",
   "id": "0daf95d0-bdf4-44c6-b99a-c2584feea909",
   "metadata": {},
   "source": [
    "### Below are a few examples of evaluating arithmetic expressions in Python"
   ]
  },
  {
   "cell_type": "code",
   "execution_count": 1,
   "id": "d24a3f39-ea81-4ba5-86b9-b1dabf0413e5",
   "metadata": {},
   "outputs": [
    {
     "data": {
      "text/plain": [
       "17"
      ]
     },
     "execution_count": 1,
     "metadata": {},
     "output_type": "execute_result"
    }
   ],
   "source": [
    "# This a simple arithmetic expression to mutiply then add integers\n",
    "(3*4)+5\n"
   ]
  },
  {
   "cell_type": "code",
   "execution_count": 12,
   "id": "2d3dbe36-285e-444f-bada-2fd6e83fe774",
   "metadata": {},
   "outputs": [
    {
     "name": "stdout",
     "output_type": "stream",
     "text": [
      "200  mins is 3.3333333333333335 hours.\n"
     ]
    }
   ],
   "source": [
    "# This will convert 200 minutes to hours by diving by 60\n",
    "x = 200\n",
    "hours = x/60\n",
    "print (f'{x}  mins is {hours} hours.')"
   ]
  },
  {
   "cell_type": "markdown",
   "id": "84ce1ce8-9b66-4eeb-8f40-73f108415a32",
   "metadata": {},
   "source": [
    "## Author\n",
    "Chioma Azubuike\n",
    "                     "
   ]
  },
  {
   "cell_type": "markdown",
   "id": "358ffab3-30e9-4570-8460-d4e579f902f4",
   "metadata": {},
   "source": [
    "## Author\n",
    "Chioma Azubuike\n",
    "                     "
   ]
  }
 ],
 "metadata": {
  "kernelspec": {
   "display_name": "Python 3 (ipykernel)",
   "language": "python",
   "name": "python3"
  },
  "language_info": {
   "codemirror_mode": {
    "name": "ipython",
    "version": 3
   },
   "file_extension": ".py",
   "mimetype": "text/x-python",
   "name": "python",
   "nbconvert_exporter": "python",
   "pygments_lexer": "ipython3",
   "version": "3.12.5"
  }
 },
 "nbformat": 4,
 "nbformat_minor": 5
}
